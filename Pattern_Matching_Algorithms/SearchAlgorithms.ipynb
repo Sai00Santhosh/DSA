{
 "cells": [
  {
   "cell_type": "markdown",
   "metadata": {},
   "source": [
    "## Rabin Karp Search Algorithm\n",
    "\n",
    "Code and Demonstration"
   ]
  },
  {
   "cell_type": "code",
   "execution_count": 140,
   "metadata": {},
   "outputs": [],
   "source": [
    "# Following program is the python implementation of\n",
    "# Rabin Karp Algorithm given in CLRS book\n",
    "# Courtesy of Bhavya Jain (link: https://www.geeksforgeeks.org/python-program-for-rabin-karp-algorithm-for-pattern-searching/#)\n",
    "\n",
    "# d is the number of characters in the input alphabet\n",
    "d = 256\n",
    "\n",
    "# pat -> pattern\n",
    "# txt -> text\n",
    "# q -> A prime number\n",
    "\n",
    "def RabinKarpSearch(pat, txt, q):\n",
    "\tM = len(pat)\n",
    "\tN = len(txt)\n",
    "\ti = 0\n",
    "\tj = 0\n",
    "\tp = 0\n",
    "\tt = 0 \n",
    "\th = 1\n",
    "\n",
    "\tfor i in range(M-1):\n",
    "\t\th = (h * d)% q\n",
    "\n",
    "\tfor i in range(M):\n",
    "\t\tp = (d * p + ord(pat[i]))% q\n",
    "\t\tt = (d * t + ord(txt[i]))% q\n",
    "\n",
    "\tfor i in range(N-M + 1):\n",
    "\t\tif p == t:\n",
    "\t\t\tfor j in range(M):\n",
    "\t\t\t\tif txt[i + j] != pat[j]:\n",
    "\t\t\t\t\tbreak\n",
    "\n",
    "\t\t\tj+= 1\n",
    "\t\t\tif j == M:\n",
    "\t\t\t\tprint(\"Pattern found at index \" + str(i))\n",
    "\n",
    "\t\tif i < N-M:\n",
    "\t\t\tt = (d*(t-ord(txt[i])*h) + ord(txt[i + M]))% q\n",
    "\t\t\tif t < 0:\n",
    "\t\t\t\tt = t + q"
   ]
  },
  {
   "cell_type": "markdown",
   "metadata": {},
   "source": [
    "### Driver Code"
   ]
  },
  {
   "cell_type": "code",
   "execution_count": 141,
   "metadata": {},
   "outputs": [
    {
     "name": "stdout",
     "output_type": "stream",
     "text": [
      "Pattern found at index 3\n"
     ]
    }
   ],
   "source": [
    "txt = \"A Cold Sunny Day\"\n",
    "pat = \"old\"\n",
    "q = 101 # A prime number\n",
    "\n",
    "\n",
    "RabinKarpSearch(pat, txt, q)"
   ]
  },
  {
   "cell_type": "markdown",
   "metadata": {},
   "source": [
    "---\n"
   ]
  },
  {
   "cell_type": "markdown",
   "metadata": {},
   "source": [
    "Demonstration of how the rolling-hash Rabin-Karp Algorithm works on a Natural Number"
   ]
  },
  {
   "cell_type": "code",
   "execution_count": 142,
   "metadata": {},
   "outputs": [],
   "source": [
    "def get_digit(number, n):\n",
    "\n",
    "    val = str(number)\n",
    "\n",
    "    return int(val[n])\n",
    "\n",
    "def RabinKarp_demo(num, pattern, modVal):\n",
    "\n",
    "    length_of_num = len(str(num))\n",
    "    length_of_ptrn = len(str(pattern))\n",
    "    prev_hash = 0\n",
    "\n",
    "    if(length_of_ptrn > length_of_num):\n",
    "        print(\"Pattern not found\")\n",
    "        return None\n",
    "\n",
    "    patternHash = pattern % modVal\n",
    "    numHash = 0\n",
    "    RM = (10**(length_of_ptrn - 1)) % modVal \n",
    "\n",
    "    print(\"Hash value of pattern: \" + str(patternHash) + \"\\n\")\n",
    "    print(\"Text Hash at \" + \"0\" + \": \" + \"0\")\n",
    "    for i in range(1, length_of_num - length_of_ptrn + 1):\n",
    "        sub_num = int((str(num))[i : i + length_of_ptrn])\n",
    "        print(\"Text Hash at \" + str(i) + \": \" + \"((\" + str(prev_hash) + \" + \" + str(get_digit(num, i - 1)) + \" * \" + \"(\" + str(modVal) + \" - \" + str(RM) + \")) * 10\" + \" + \" + str(get_digit(num, (i - 1 + length_of_ptrn))) + \") % \" + str(modVal))\n",
    "        numHash = ((prev_hash + get_digit(num, i - 1) * (modVal - RM)) * 10 + get_digit(num, (i - 1 + length_of_ptrn))) % modVal\n",
    "        print(\"Text Hash at \" + str(i) + \": \" + str(numHash))\n",
    "        prev_hash = numHash\n",
    "\n",
    "        if (patternHash == numHash):\n",
    "            if(pattern == sub_num):\n",
    "                print(\"Pattern Found at index: \" + str(i))\n",
    "                return None\n",
    "            else:\n",
    "                print(\"Pattern not Found at this index\")"
   ]
  },
  {
   "cell_type": "code",
   "execution_count": 143,
   "metadata": {},
   "outputs": [
    {
     "name": "stdout",
     "output_type": "stream",
     "text": [
      "Hash value of pattern: 2\n",
      "\n",
      "Text Hash at 0: 0\n",
      "Text Hash at 1: ((0 + 6 * (53 - 47)) * 10 + 4) % 53\n",
      "Text Hash at 1: 46\n",
      "Text Hash at 2: ((46 + 8 * (53 - 47)) * 10 + 7) % 53\n",
      "Text Hash at 2: 46\n",
      "Text Hash at 3: ((46 + 9 * (53 - 47)) * 10 + 9) % 53\n",
      "Text Hash at 3: 2\n",
      "Pattern Found at index: 3\n"
     ]
    }
   ],
   "source": [
    "num = 689479\n",
    "pattern = 479\n",
    "prime = 53\n",
    "\n",
    "RabinKarp_demo(num, pattern, prime)"
   ]
  },
  {
   "cell_type": "markdown",
   "metadata": {},
   "source": [
    "---\n"
   ]
  },
  {
   "cell_type": "markdown",
   "metadata": {},
   "source": [
    "## Knuth-Morris-Pratt Search Algorithm\n",
    "\n",
    "Code and Demonstration"
   ]
  },
  {
   "cell_type": "code",
   "execution_count": 144,
   "metadata": {},
   "outputs": [],
   "source": [
    "# This code is contributed by Bhavya Jain (link: https://www.geeksforgeeks.org/kmp-algorithm-for-pattern-searching/)\n",
    "def KMPSearch(pat, txt):\n",
    "\tM = len(pat)\n",
    "\tN = len(txt)\n",
    "\n",
    "\tlps = [0] * M\n",
    "\tj = 0 \n",
    "\n",
    "\tcomputeLPSArray(pat, M, lps)\n",
    "\n",
    "\ti = 0 \n",
    "\twhile i < N:\n",
    "\t\tif pat[j] == txt[i]:\n",
    "\t\t\ti += 1\n",
    "\t\t\tj += 1\n",
    "\n",
    "\t\tif j == M:\n",
    "\t\t\tprint (\"Found pattern at index \" + str(i-j))\n",
    "\t\t\tj = lps[j-1]\n",
    "\n",
    "\t\telif i < N and pat[j] != txt[i]:\n",
    "\t\t\tif j != 0:\n",
    "\t\t\t\tj = lps[j-1]\n",
    "\t\t\telse:\n",
    "\t\t\t\ti += 1\n",
    "\n",
    "def computeLPSArray(pat, M, lps):\n",
    "\tlen = 0\n",
    "\tlps[0]\n",
    "\ti = 1\n",
    "\n",
    "\twhile i < M:\n",
    "\t\tif pat[i]== pat[len]:\n",
    "\t\t\tlen += 1\n",
    "\t\t\tlps[i] = len\n",
    "\t\t\ti += 1\n",
    "\t\telse:\n",
    "\t\t\tif len != 0:\n",
    "\t\t\t\tlen = lps[len-1]\n",
    "\t\t\telse:\n",
    "\t\t\t\tlps[i] = 0\n",
    "\t\t\t\ti += 1\n",
    "\n"
   ]
  },
  {
   "cell_type": "markdown",
   "metadata": {},
   "source": [
    "### Driver Code"
   ]
  },
  {
   "cell_type": "code",
   "execution_count": 145,
   "metadata": {},
   "outputs": [
    {
     "name": "stdout",
     "output_type": "stream",
     "text": [
      "Found pattern at index 10\n"
     ]
    }
   ],
   "source": [
    "txt = \"ABABDABACDABABCABAB\"\n",
    "pat = \"ABABCABAB\"\n",
    "KMPSearch(pat, txt)"
   ]
  },
  {
   "cell_type": "markdown",
   "metadata": {},
   "source": [
    "---\n"
   ]
  },
  {
   "cell_type": "markdown",
   "metadata": {},
   "source": [
    "## Boyer-Moore Search Algorithm\n",
    "\n",
    "Code and Demonstration"
   ]
  },
  {
   "cell_type": "code",
   "execution_count": 146,
   "metadata": {},
   "outputs": [],
   "source": [
    "# This code is contributed by Atul Kumar (link: https://www.geeksforgeeks.org/boyer-moore-algorithm-for-pattern-searching/?ref=lbp)\n",
    "NO_OF_CHARS = 256\n",
    "\n",
    "def badCharHeuristic(string, size):\n",
    "\n",
    "\tbadChar = [-1]*NO_OF_CHARS\n",
    "\n",
    "\tfor i in range(size):\n",
    "\t\tbadChar[ord(string[i])] = i\n",
    "\n",
    "\treturn badChar\n",
    "\n",
    "def BoyerMooreSearch(txt, pat):\n",
    "\n",
    "\tm = len(pat)\n",
    "\tn = len(txt)\n",
    "\n",
    "\tbadChar = badCharHeuristic(pat, m)\n",
    "\n",
    "\ts = 0\n",
    "\twhile(s <= n-m):\n",
    "\t\tj = m-1\n",
    "\n",
    "\t\twhile j>=0 and pat[j] == txt[s+j]:\n",
    "\t\t\tj -= 1\n",
    "\n",
    "\t\tif j<0:\n",
    "\t\t\tprint(\"Pattern occur at shift = {}\".format(s))\n",
    "\t\t\ts += (m-badChar[ord(txt[s+m])] if s+m<n else 1)\n",
    "\t\telse:\n",
    "\t\t\ts += max(1, j-badChar[ord(txt[s+j])])"
   ]
  },
  {
   "cell_type": "markdown",
   "metadata": {},
   "source": [
    "### Driver Code"
   ]
  },
  {
   "cell_type": "code",
   "execution_count": 147,
   "metadata": {},
   "outputs": [
    {
     "name": "stdout",
     "output_type": "stream",
     "text": [
      "Pattern occur at shift = 4\n"
     ]
    }
   ],
   "source": [
    "def main():\n",
    "\ttxt = \"ABAAABCefo\"\n",
    "\tpat = \"ABC\"\n",
    "\tBoyerMooreSearch(txt, pat)\n",
    "\n",
    "if __name__ == '__main__':\n",
    "\tmain()"
   ]
  }
 ],
 "metadata": {
  "interpreter": {
   "hash": "aee8b7b246df8f9039afb4144a1f6fd8d2ca17a180786b69acc140d282b71a49"
  },
  "kernelspec": {
   "display_name": "Python 3.8.3 64-bit",
   "language": "python",
   "name": "python3"
  },
  "language_info": {
   "codemirror_mode": {
    "name": "ipython",
    "version": 3
   },
   "file_extension": ".py",
   "mimetype": "text/x-python",
   "name": "python",
   "nbconvert_exporter": "python",
   "pygments_lexer": "ipython3",
   "version": "3.8.3"
  },
  "orig_nbformat": 4
 },
 "nbformat": 4,
 "nbformat_minor": 2
}
