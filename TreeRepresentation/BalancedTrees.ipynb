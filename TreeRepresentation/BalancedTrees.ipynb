{
 "cells": [
  {
   "cell_type": "markdown",
   "metadata": {},
   "source": [
    "<h3>Balanced Trees</h3>\n",
    "\n",
    "    1. Two-three trees\n",
    "\n",
    "    2. Left Leaning Red-Black Trees\n",
    "\n",
    "In this notebook we will focus on Balanced Trees and specifically the 2-3 Trees and Left-leaning Red-Black trees. Left-leaning Red-black trees would simply be called Red-Black Trees for simplicity purposes. This notebook would demonstrate both the code for Balanced Trees as well as build a visual representation to further aid in understanding this complex concept."
   ]
  },
  {
   "cell_type": "code",
   "execution_count": null,
   "metadata": {},
   "outputs": [],
   "source": []
  },
  {
   "cell_type": "code",
   "execution_count": null,
   "metadata": {},
   "outputs": [],
   "source": []
  }
 ],
 "metadata": {
  "language_info": {
   "name": "python"
  },
  "orig_nbformat": 4
 },
 "nbformat": 4,
 "nbformat_minor": 2
}
